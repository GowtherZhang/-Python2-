{
 "cells": [
  {
   "cell_type": "markdown",
   "metadata": {},
   "source": [
    "## 3.2 字典的现代语法"
   ]
  },
  {
   "cell_type": "markdown",
   "metadata": {},
   "source": [
    "### 3.2.1 字典推导式"
   ]
  },
  {
   "cell_type": "code",
   "execution_count": 14,
   "metadata": {},
   "outputs": [
    {
     "name": "stdout",
     "output_type": "stream",
     "text": [
      "{'Bangladen': 880, 'Brazil': 55, 'China': 86, 'India': 91, 'Indonesia': 62, 'Japan': 81, 'Nigeria': 234, 'Pakistan': 92, 'Russian': 7, 'United States': 1}\n",
      "{55: 'BRAZIL', 62: 'INDONESIA', 7: 'RUSSIAN', 1: 'UNITED STATES'}\n",
      "{1: 'UNITED STATES', 7: 'RUSSIAN', 55: 'BRAZIL', 62: 'INDONESIA'}\n"
     ]
    }
   ],
   "source": [
    "dial_codes= [\n",
    "    (880, 'Bangladen'),\n",
    "    (55, 'Brazil'),\n",
    "    (86, 'China'),\n",
    "    (91, 'India'),\n",
    "    (62, 'Indonesia'),\n",
    "    (81, 'Japan'),\n",
    "    (234, 'Nigeria'),\n",
    "    (92, 'Pakistan'),\n",
    "    (7, 'Russian'),\n",
    "    (1, 'United States')\n",
    "]\n",
    "\n",
    "country_dials = {country: code for code, country in dial_codes} # 包含键值的可迭代对象可以直接传给dic构造字典推导式，对调键和值的位置\n",
    "print(country_dials)\n",
    "\n",
    "codes_country_byCountry = {code: country.upper() for country, code in sorted(country_dials.items()) if code < 70}# 值转换为大写模式，同时code限制在70以下,并以键进行排序\n",
    "print(codes_country_byCountry)\n",
    "\n",
    "\n",
    "codes_country_byCode = {code: country.upper() for country, code in sorted(country_dials.items(), key = lambda x:x[1]) if code < 70}# 以值进行排序\n",
    "print(codes_country_byCode)"
   ]
  },
  {
   "cell_type": "code",
   "execution_count": 15,
   "metadata": {},
   "outputs": [
    {
     "name": "stdout",
     "output_type": "stream",
     "text": [
      "Bangladen\n",
      "Brazil\n",
      "China\n",
      "India\n",
      "Indonesia\n",
      "Japan\n",
      "Nigeria\n",
      "Pakistan\n",
      "Russian\n",
      "United States\n"
     ]
    }
   ],
   "source": [
    "for key, value in country_dials.items():\n",
    "    print(key)"
   ]
  },
  {
   "cell_type": "markdown",
   "metadata": {},
   "source": [
    "### 3.2.2 映射拆包"
   ]
  },
  {
   "cell_type": "code",
   "execution_count": 16,
   "metadata": {},
   "outputs": [
    {
     "name": "stdout",
     "output_type": "stream",
     "text": [
      "1 2 3 4\n"
     ]
    }
   ],
   "source": [
    "values= [1,2,3,4,]\n",
    "\n",
    "print(*values)"
   ]
  },
  {
   "cell_type": "code",
   "execution_count": 17,
   "metadata": {},
   "outputs": [
    {
     "name": "stdout",
     "output_type": "stream",
     "text": [
      "[1, 2, 3, 4, 5, 6]\n",
      "{1, 2, 3, 4, 100, 10}\n",
      "{1, 2, 3, 4, 100, 1000}\n"
     ]
    }
   ],
   "source": [
    "values= [1,2,3,4,]\n",
    "values_new = [*values, 5,6,]\n",
    "print(values_new)\n",
    "\n",
    "set1 = {*values, 10, 100}\n",
    "set2 = {*values, 1000, 100}\n",
    "print(set1)\n",
    "print(set2)"
   ]
  },
  {
   "cell_type": "code",
   "execution_count": 18,
   "metadata": {},
   "outputs": [
    {
     "name": "stdout",
     "output_type": "stream",
     "text": [
      "{'a': 1, 'b': 2, 'c': 3}\n"
     ]
    }
   ],
   "source": [
    "dict = {'a':1, 'b':2}\n",
    "dict_new = {**dict, 'c':3}\n",
    "print(dict_new)"
   ]
  },
  {
   "cell_type": "code",
   "execution_count": 19,
   "metadata": {},
   "outputs": [
    {
     "name": "stdout",
     "output_type": "stream",
     "text": [
      "1 2 3\n"
     ]
    }
   ],
   "source": [
    "# 可以将多个参数作为单独的参数传递给函数，使用 * 实现\n",
    "values = [1, 2, 3]\n",
    "print(*values)  # Equivalent to print(1, 2, 3)\n",
    "\n",
    "\n",
    "# 可以使用可迭代对象中的多个拆包元素直接创建一个新的列表或者集合，使用* 实现\n",
    "values = [1, 2, 3]\n",
    "new_list = [*values, 4, 5]  # Equivalent to [1, 2, 3, 4, 5]\n",
    "\n",
    "# 可以使用一个字典中的可拆包键值对创建一个新的字典，使用**实现\n",
    "original_dict = {'a': 1, 'b': 2}\n",
    "new_dict = {'c': 3, **original_dict}  # Equivalent to {'c': 3, 'a': 1, 'b': 2}\n"
   ]
  },
  {
   "cell_type": "code",
   "execution_count": 20,
   "metadata": {},
   "outputs": [
    {
     "name": "stdout",
     "output_type": "stream",
     "text": [
      "{'x': 1, 'y': 2, 'c': 3}\n"
     ]
    }
   ],
   "source": [
    "def dump(**kwargs):\n",
    "    return kwargs # 使用 ** 接收任意数量的关键字参数，并将这些参数作为一个字典返回\n",
    "\n",
    "print(dump(**{'x':1}, y=2, **{'c':3})) # 调用函数时，多个变量可以使用**, 但是所有的键都要是字符串"
   ]
  },
  {
   "cell_type": "code",
   "execution_count": 21,
   "metadata": {},
   "outputs": [
    {
     "data": {
      "text/plain": [
       "{'a': 0, 'x': 4, 'y': 2, 'z': 3}"
      ]
     },
     "execution_count": 21,
     "metadata": {},
     "output_type": "execute_result"
    }
   ],
   "source": [
    "{'a':0, **{'x':1}, 'y':2, **{'z':3, 'x':4}} "
   ]
  },
  {
   "cell_type": "markdown",
   "metadata": {},
   "source": [
    "### 3.2.2 使用 | 合并映射"
   ]
  },
  {
   "cell_type": "code",
   "execution_count": 22,
   "metadata": {},
   "outputs": [
    {
     "data": {
      "text/plain": [
       "{'a': 0, 'b': 1, 'y': 2, 'z': 3}"
      ]
     },
     "execution_count": 22,
     "metadata": {},
     "output_type": "execute_result"
    }
   ],
   "source": [
    "d1 = {'a': 0, 'b': 1}\n",
    "d2 = {'y': 2, 'z': 3}\n",
    "d1 | d2"
   ]
  },
  {
   "cell_type": "code",
   "execution_count": 23,
   "metadata": {},
   "outputs": [
    {
     "data": {
      "text/plain": [
       "{'a': 0, 'b': 1, 'y': 2, 'z': 3}"
      ]
     },
     "execution_count": 23,
     "metadata": {},
     "output_type": "execute_result"
    }
   ],
   "source": [
    "d1 = {'a': 0, 'b': 1}\n",
    "d2 = {'y': 2, 'z': 3}\n",
    "d1 |= d2\n",
    "d1 "
   ]
  },
  {
   "cell_type": "markdown",
   "metadata": {},
   "source": [
    "## 3.3 使用模式匹配处理映射"
   ]
  },
  {
   "cell_type": "code",
   "execution_count": 6,
   "metadata": {},
   "outputs": [],
   "source": [
    "def get_creators(record:dict):\n",
    "    match record:\n",
    "        case {'type':'book', 'api':2, 'author':[*name]}: # authors 键映射一个序列的映射对象，以列表的形式返回序列中的项,如果对象不是一个序列会报错，即第三种情况\n",
    "            return name\n",
    "        case {'type':'book', 'api':1, 'author':name}:# authors键映射任何对象的映射对象，以列表形式返回匹配的对象\n",
    "            return name\n",
    "        case {'type':'book'}: \n",
    "            return ValueError(f\"Invalid 'book' record : {record!r}\")  # 其他含有type为book的映射均无效\n",
    "        case {'type':'movie', 'director':name}:\n",
    "            return [name]\n",
    "        case _:\n",
    "            raise ValueError(f'Invalid record: {record!r}')"
   ]
  },
  {
   "cell_type": "code",
   "execution_count": 3,
   "metadata": {},
   "outputs": [
    {
     "data": {
      "text/plain": [
       "['Douglas', 'Hostadter']"
      ]
     },
     "execution_count": 3,
     "metadata": {},
     "output_type": "execute_result"
    }
   ],
   "source": [
    "b1 = dict(api=1, author='Douglas Hostadter', type='book',title='Godel, Escher, Bach')\n",
    "get_creators(b1)"
   ]
  },
  {
   "cell_type": "code",
   "execution_count": 5,
   "metadata": {},
   "outputs": [
    {
     "data": {
      "text/plain": [
       "['Martello', 'Ravenscroft', 'Holden']"
      ]
     },
     "execution_count": 5,
     "metadata": {},
     "output_type": "execute_result"
    }
   ],
   "source": [
    "b2 = dict(api=2, type='book', author='Martello Ravenscroft Holden'.split(), title='Python in a Nutshell')\n",
    "get_creators(b2)"
   ]
  },
  {
   "cell_type": "code",
   "execution_count": 7,
   "metadata": {},
   "outputs": [
    {
     "data": {
      "text/plain": [
       "ValueError(\"Invalid 'book' record : {'api': 2, 'type': 'book', 'author': 'Martello Ravenscroft Holden', 'title': 'Python in a Nutshell'}\")"
      ]
     },
     "execution_count": 7,
     "metadata": {},
     "output_type": "execute_result"
    }
   ],
   "source": [
    "b3 = dict(api=2, type='book', author='Martello Ravenscroft Holden', title='Python in a Nutshell')\n",
    "get_creators(b3)"
   ]
  },
  {
   "cell_type": "code",
   "execution_count": 8,
   "metadata": {},
   "outputs": [
    {
     "data": {
      "text/plain": [
       "['Martello', 'Ravenscroft', 'Holden']"
      ]
     },
     "execution_count": 8,
     "metadata": {},
     "output_type": "execute_result"
    }
   ],
   "source": [
    "from collections import OrderedDict\n",
    "\n",
    "b4 = OrderedDict(author='Martello Ravenscroft Holden'.split(),type='book', api=2)\n",
    "get_creators(b4)"
   ]
  },
  {
   "cell_type": "code",
   "execution_count": 11,
   "metadata": {},
   "outputs": [
    {
     "ename": "ValueError",
     "evalue": "Invalid record: 'g,g,g'",
     "output_type": "error",
     "traceback": [
      "\u001b[1;31m---------------------------------------------------------------------------\u001b[0m",
      "\u001b[1;31mValueError\u001b[0m                                Traceback (most recent call last)",
      "Cell \u001b[1;32mIn[11], line 1\u001b[0m\n\u001b[1;32m----> 1\u001b[0m get_creators(\u001b[39m'\u001b[39;49m\u001b[39mg,g,g\u001b[39;49m\u001b[39m'\u001b[39;49m)\n",
      "Cell \u001b[1;32mIn[6], line 12\u001b[0m, in \u001b[0;36mget_creators\u001b[1;34m(record)\u001b[0m\n\u001b[0;32m     10\u001b[0m     \u001b[39mreturn\u001b[39;00m [name]\n\u001b[0;32m     11\u001b[0m \u001b[39mcase\u001b[39;00m\u001b[39m \u001b[39m\u001b[39m_\u001b[39;00m:\n\u001b[1;32m---> 12\u001b[0m     \u001b[39mraise\u001b[39;00m \u001b[39mValueError\u001b[39;00m(\u001b[39mf\u001b[39m\u001b[39m'\u001b[39m\u001b[39mInvalid record: \u001b[39m\u001b[39m{\u001b[39;00mrecord\u001b[39m!r}\u001b[39;00m\u001b[39m'\u001b[39m)\n",
      "\u001b[1;31mValueError\u001b[0m: Invalid record: 'g,g,g'"
     ]
    }
   ],
   "source": [
    "get_creators('g,g,g')"
   ]
  },
  {
   "cell_type": "code",
   "execution_count": 13,
   "metadata": {},
   "outputs": [
    {
     "name": "stdout",
     "output_type": "stream",
     "text": [
      "ice cream details {'flavor': 'vanilla', 'cost': 999}\n"
     ]
    }
   ],
   "source": [
    "# 多余键值对保存\n",
    "food = dict(category='ice cream', flavor='vanilla', cost=999)\n",
    "\n",
    "match food:\n",
    "    case {'category':'ice cream', **details}:\n",
    "        print(f'ice cream details',details)\n"
   ]
  },
  {
   "cell_type": "markdown",
   "metadata": {},
   "source": [
    "## 3.4 映射类型的标准 API"
   ]
  },
  {
   "cell_type": "code",
   "execution_count": 15,
   "metadata": {},
   "outputs": [
    {
     "name": "stdout",
     "output_type": "stream",
     "text": [
      "True\n",
      "True\n"
     ]
    }
   ],
   "source": [
    "my_dict = {}\n",
    "\n",
    "from collections.abc import Mapping, MutableMapping\n",
    "\n",
    "print(isinstance(my_dict, Mapping))\n",
    "print(isinstance(my_dict, MutableMapping))"
   ]
  },
  {
   "cell_type": "code",
   "execution_count": 22,
   "metadata": {},
   "outputs": [
    {
     "name": "stdout",
     "output_type": "stream",
     "text": [
      "1\n",
      "1280966676860300338\n",
      "(1, 2, [1, 1]) is unhashable\n",
      "-8494090264491407655\n"
     ]
    }
   ],
   "source": [
    "print(hash(1))\n",
    "\n",
    "tt = (1,2,(1,1))\n",
    "print(hash(tt))\n",
    "\n",
    "tl = (1,2,[1,1])\n",
    "try:\n",
    "    print(hash(tl))\n",
    "except:\n",
    "    print(f'{tl} is unhashable')\n",
    "\n",
    "tf= (1,2,frozenset([1,1])) # frozenset 用于创建一个无序，不可变且唯一元素集合的对象\n",
    "print(hash(tf))"
   ]
  },
  {
   "cell_type": "code",
   "execution_count": 18,
   "metadata": {},
   "outputs": [
    {
     "data": {
      "text/plain": [
       "frozenset({30, 40})"
      ]
     },
     "execution_count": 18,
     "metadata": {},
     "output_type": "execute_result"
    }
   ],
   "source": [
    "frozenset([30,40])"
   ]
  },
  {
   "cell_type": "code",
   "execution_count": 23,
   "metadata": {},
   "outputs": [
    {
     "name": "stdout",
     "output_type": "stream",
     "text": [
      "5\n",
      "5\n"
     ]
    }
   ],
   "source": [
    "a = 1 + 4\n",
    "b = 2 + 3\n",
    "\n",
    "print(hash(a))\n",
    "print(hash(b))"
   ]
  },
  {
   "cell_type": "markdown",
   "metadata": {},
   "source": [
    "### 3.4.3 插入或更新可变的值"
   ]
  },
  {
   "cell_type": "code",
   "execution_count": 24,
   "metadata": {},
   "outputs": [
    {
     "name": "stdout",
     "output_type": "stream",
     "text": [
      "The Zen of Python, by Tim Peters\n",
      "\n",
      "Beautiful is better than ugly.\n",
      "Explicit is better than implicit.\n",
      "Simple is better than complex.\n",
      "Complex is better than complicated.\n",
      "Flat is better than nested.\n",
      "Sparse is better than dense.\n",
      "Readability counts.\n",
      "Special cases aren't special enough to break the rules.\n",
      "Although practicality beats purity.\n",
      "Errors should never pass silently.\n",
      "Unless explicitly silenced.\n",
      "In the face of ambiguity, refuse the temptation to guess.\n",
      "There should be one-- and preferably only one --obvious way to do it.\n",
      "Although that way may not be obvious at first unless you're Dutch.\n",
      "Now is better than never.\n",
      "Although never is often better than *right* now.\n",
      "If the implementation is hard to explain, it's a bad idea.\n",
      "If the implementation is easy to explain, it may be a good idea.\n",
      "Namespaces are one honking great idea -- let's do more of those!\n"
     ]
    }
   ],
   "source": [
    "import this"
   ]
  },
  {
   "cell_type": "code",
   "execution_count": 1,
   "metadata": {},
   "outputs": [
    {
     "name": "stdout",
     "output_type": "stream",
     "text": [
      "C:\\Users\\18098\\AppData\\Roaming\\Python\\Python310\\site-packages\\ipykernel_launcher.py\n",
      "--ip=127.0.0.1\n",
      "--stdin=9003\n",
      "--control=9001\n",
      "--hb=9000\n",
      "--Session.signature_scheme=\"hmac-sha256\"\n",
      "--Session.key=b\"b3cc028a-9e2b-441b-bd13-1b9ebacec9cf\"\n",
      "--shell=9002\n",
      "--transport=\"tcp\"\n",
      "--iopub=9004\n",
      "--f=c:\\Users\\18098\\AppData\\Roaming\\jupyter\\runtime\\kernel-v2-121721FIvLMNkTUuI.json\n"
     ]
    }
   ],
   "source": [
    "import re\n",
    "import sys\n",
    "\n",
    "print(sys.argv[0])\n",
    "\n",
    "if len(sys.argv) > 1:\n",
    "    for i in sys.argv[1:]:\n",
    "        print(i)"
   ]
  },
  {
   "cell_type": "code",
   "execution_count": 3,
   "metadata": {},
   "outputs": [
    {
     "ename": "TypeError",
     "evalue": "'enconding' is an invalid keyword argument for open()",
     "output_type": "error",
     "traceback": [
      "\u001b[1;31m---------------------------------------------------------------------------\u001b[0m",
      "\u001b[1;31mTypeError\u001b[0m                                 Traceback (most recent call last)",
      "Cell \u001b[1;32mIn[3], line 8\u001b[0m\n\u001b[0;32m      4\u001b[0m WORD_RE \u001b[39m=\u001b[39m re\u001b[39m.\u001b[39mcompile(\u001b[39mr\u001b[39m\u001b[39m'\u001b[39m\u001b[39m\\\u001b[39m\u001b[39mw+\u001b[39m\u001b[39m'\u001b[39m)\n\u001b[0;32m      6\u001b[0m index \u001b[39m=\u001b[39m {}\n\u001b[1;32m----> 8\u001b[0m \u001b[39mwith\u001b[39;00m \u001b[39mopen\u001b[39;49m(sys\u001b[39m.\u001b[39;49margv[\u001b[39m1\u001b[39;49m],enconding\u001b[39m=\u001b[39;49m\u001b[39m'\u001b[39;49m\u001b[39mutf-8\u001b[39;49m\u001b[39m'\u001b[39;49m) \u001b[39mas\u001b[39;00m fp:\n\u001b[0;32m      9\u001b[0m     \u001b[39mfor\u001b[39;00m line_no, line \u001b[39min\u001b[39;00m \u001b[39menumerate\u001b[39m(fp, \u001b[39m1\u001b[39m):\n\u001b[0;32m     10\u001b[0m         \u001b[39mfor\u001b[39;00m match \u001b[39min\u001b[39;00m WORD_RE\u001b[39m.\u001b[39mfinditer(line):\n",
      "File \u001b[1;32m~\\AppData\\Roaming\\Python\\Python310\\site-packages\\IPython\\core\\interactiveshell.py:282\u001b[0m, in \u001b[0;36m_modified_open\u001b[1;34m(file, *args, **kwargs)\u001b[0m\n\u001b[0;32m    275\u001b[0m \u001b[39mif\u001b[39;00m file \u001b[39min\u001b[39;00m {\u001b[39m0\u001b[39m, \u001b[39m1\u001b[39m, \u001b[39m2\u001b[39m}:\n\u001b[0;32m    276\u001b[0m     \u001b[39mraise\u001b[39;00m \u001b[39mValueError\u001b[39;00m(\n\u001b[0;32m    277\u001b[0m         \u001b[39mf\u001b[39m\u001b[39m\"\u001b[39m\u001b[39mIPython won\u001b[39m\u001b[39m'\u001b[39m\u001b[39mt let you open fd=\u001b[39m\u001b[39m{\u001b[39;00mfile\u001b[39m}\u001b[39;00m\u001b[39m by default \u001b[39m\u001b[39m\"\u001b[39m\n\u001b[0;32m    278\u001b[0m         \u001b[39m\"\u001b[39m\u001b[39mas it is likely to crash IPython. If you know what you are doing, \u001b[39m\u001b[39m\"\u001b[39m\n\u001b[0;32m    279\u001b[0m         \u001b[39m\"\u001b[39m\u001b[39myou can use builtins\u001b[39m\u001b[39m'\u001b[39m\u001b[39m open.\u001b[39m\u001b[39m\"\u001b[39m\n\u001b[0;32m    280\u001b[0m     )\n\u001b[1;32m--> 282\u001b[0m \u001b[39mreturn\u001b[39;00m io_open(file, \u001b[39m*\u001b[39margs, \u001b[39m*\u001b[39m\u001b[39m*\u001b[39mkwargs)\n",
      "\u001b[1;31mTypeError\u001b[0m: 'enconding' is an invalid keyword argument for open()"
     ]
    }
   ],
   "source": [
    "import re\n",
    "import sys\n",
    "\n",
    "WORD_RE = re.compile(r'\\w+')\n",
    "\n",
    "index = {}\n",
    "\n",
    "with open(sys.argv[1],enconding='utf-8') as fp:\n",
    "    for line_no, line in enumerate(fp, 1):\n",
    "        for match in WORD_RE.finditer(line):\n",
    "            word = match.group()\n",
    "            column_no = match.start() + 1\n",
    "            location = (line_no, column_no)\n",
    "\n",
    "            occurrences = indx.get(word, [])\n",
    "            occurrences.append(location)\n",
    "            index[word] = occurrences\n",
    "\n",
    "for word in sorted(index, key=str.upper):\n",
    "    print(word, index[word])"
   ]
  },
  {
   "cell_type": "markdown",
   "metadata": {},
   "source": [
    "## 3.6 Dict 的变体"
   ]
  },
  {
   "cell_type": "markdown",
   "metadata": {},
   "source": [
    "### 3.6.1 collections.OrderedDict"
   ]
  },
  {
   "cell_type": "code",
   "execution_count": 4,
   "metadata": {},
   "outputs": [
    {
     "name": "stdout",
     "output_type": "stream",
     "text": [
      "2\n",
      "2\n",
      "False\n"
     ]
    }
   ],
   "source": [
    "# OrderedDict 的等值检查考虑顺序\n",
    "from collections import OrderedDict\n",
    "\n",
    "DictA = OrderedDict([('a',2),('b',3)])\n",
    "DictB = OrderedDict([('b',3),('a',2)])\n",
    "\n",
    "print(DictA['a'])\n",
    "print(DictB['a'])\n",
    "print(DictA == DictB)"
   ]
  },
  {
   "cell_type": "code",
   "execution_count": 13,
   "metadata": {},
   "outputs": [
    {
     "name": "stdout",
     "output_type": "stream",
     "text": [
      "('c', 4)\n",
      "('a', 2)\n",
      "('c', 4)\n",
      "('c', 4)\n",
      "OrderedDict([('a', 2), ('b', 3)])\n"
     ]
    }
   ],
   "source": [
    "# OrderDict 的 popitem() 方法签名不同，可通过一个可选参数制定移除哪一项\n",
    "from collections import OrderedDict\n",
    "\n",
    "DictA = OrderedDict([('a',2),('b',3),('c',4)])\n",
    "DictB = OrderedDict([('a',2),('b',3),('c',4)])\n",
    "DictC = OrderedDict([('a',2),('b',3),('c',4)])\n",
    "DictD = OrderedDict([('a',2),('b',3),('c',4)])\n",
    "\n",
    "print(DictA.popitem())\n",
    "print(DictB.popitem(0))\n",
    "print(DictC.popitem(1))\n",
    "print(DictD.popitem('a'))\n",
    "print(DictD)"
   ]
  },
  {
   "cell_type": "code",
   "execution_count": 22,
   "metadata": {},
   "outputs": [
    {
     "name": "stdout",
     "output_type": "stream",
     "text": [
      "OrderedDict([('b', 3), ('c', 4), ('a', 2)])\n",
      "OrderedDict([('a', 2), ('c', 4), ('b', 3)])\n"
     ]
    }
   ],
   "source": [
    "# OrderedDitct 多了一个 move_to_end() 方法，便于把元素的位置移到另一端\n",
    "from collections import OrderedDict\n",
    "\n",
    "DictA = OrderedDict([('a',2),('b',3),('c',4)])\n",
    "DictB = OrderedDict([('a',2),('b',3),('c',4)])\n",
    "DictC = OrderedDict([('a',2),('b',3),('c',4)])\n",
    "DictD = OrderedDict([('a',2),('b',3),('c',4)])\n",
    "\n",
    "DictA.move_to_end('a')\n",
    "print(DictA)\n",
    "DictB.move_to_end('b')\n",
    "print(DictB)"
   ]
  },
  {
   "cell_type": "markdown",
   "metadata": {},
   "source": [
    "### 3.6.2 collecitons.ChainMap"
   ]
  },
  {
   "cell_type": "code",
   "execution_count": 28,
   "metadata": {},
   "outputs": [
    {
     "name": "stdout",
     "output_type": "stream",
     "text": [
      "a: 1 c: 6\n"
     ]
    }
   ],
   "source": [
    "# 查找结果按照输入的顺序执行，以第一个值为准，并停止继续查找。\n",
    "from collections import ChainMap\n",
    "\n",
    "d1 = dict(a=1, b=2)\n",
    "d2 = dict([('a',2), ('b',4),('c',6)])\n",
    "\n",
    "chain = ChainMap(d1, d2)\n",
    "print('a:', chain['a'], 'c:', chain['c'])"
   ]
  },
  {
   "cell_type": "code",
   "execution_count": 29,
   "metadata": {},
   "outputs": [
    {
     "name": "stdout",
     "output_type": "stream",
     "text": [
      "a: {'a': 3, 'b': 2, 'c': 8} c: {'a': 2, 'b': 4, 'c': 6}\n"
     ]
    }
   ],
   "source": [
    "# ChainMap 的插入与更新只影响第一个映射\n",
    "from collections import ChainMap\n",
    "\n",
    "d1 = dict(a=1, b=2)\n",
    "d2 = dict([('a',2), ('b',4),('c',6)])\n",
    "\n",
    "chain = ChainMap(d1, d2)\n",
    "chain['a'] = 3\n",
    "chain['c'] = 8\n",
    "\n",
    "print('a:', d1, 'c:', d2)"
   ]
  }
 ],
 "metadata": {
  "kernelspec": {
   "display_name": "Python 3",
   "language": "python",
   "name": "python3"
  },
  "language_info": {
   "codemirror_mode": {
    "name": "ipython",
    "version": 3
   },
   "file_extension": ".py",
   "mimetype": "text/x-python",
   "name": "python",
   "nbconvert_exporter": "python",
   "pygments_lexer": "ipython3",
   "version": "3.10.0"
  },
  "orig_nbformat": 4
 },
 "nbformat": 4,
 "nbformat_minor": 2
}
