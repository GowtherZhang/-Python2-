{
 "cells": [
  {
   "cell_type": "code",
   "execution_count": 1,
   "metadata": {},
   "outputs": [],
   "source": [
    "import pandas as pd"
   ]
  },
  {
   "cell_type": "code",
   "execution_count": 4,
   "metadata": {},
   "outputs": [
    {
     "data": {
      "text/plain": [
       "'$¢£¥€¤'"
      ]
     },
     "execution_count": 4,
     "metadata": {},
     "output_type": "execute_result"
    }
   ],
   "source": [
    "symbols = chr(36)+chr(162)+chr(163)+chr(165)+chr(8364)+chr(164)\n",
    "symbols"
   ]
  },
  {
   "cell_type": "code",
   "execution_count": 6,
   "metadata": {},
   "outputs": [
    {
     "data": {
      "text/plain": [
       "[36, 162, 163, 165, 8364, 164]"
      ]
     },
     "execution_count": 6,
     "metadata": {},
     "output_type": "execute_result"
    }
   ],
   "source": [
    "codes = [ord(symbol) for symbol in symbols]\n",
    "codes"
   ]
  },
  {
   "cell_type": "code",
   "execution_count": 7,
   "metadata": {},
   "outputs": [
    {
     "data": {
      "text/plain": [
       "(36, 162, 163, 165, 8364, 164)"
      ]
     },
     "execution_count": 7,
     "metadata": {},
     "output_type": "execute_result"
    }
   ],
   "source": [
    "tuple(ord(symbol) for symbol in symbols)"
   ]
  },
  {
   "cell_type": "markdown",
   "metadata": {},
   "source": [
    "### 2.4.1 用作记录"
   ]
  },
  {
   "cell_type": "code",
   "execution_count": 1,
   "metadata": {},
   "outputs": [
    {
     "name": "stdout",
     "output_type": "stream",
     "text": [
      "BRA/CE342567\n",
      "ESP/XDA205856\n",
      "USA/31195855\n"
     ]
    }
   ],
   "source": [
    "lax_coordinates = (33,-118)\n",
    "city, year, pop, chg, area = ('Tokyo', '2003', '32450', '0.66', '8014')\n",
    "\n",
    "traveler_ids = [('USA','31195855'),('BRA','CE342567'),('ESP','XDA205856')]\n",
    "for passport in sorted(traveler_ids):\n",
    "    print('%s/%s' % passport)"
   ]
  },
  {
   "cell_type": "code",
   "execution_count": null,
   "metadata": {},
   "outputs": [],
   "source": [
    "# 元组拆包赋值\n",
    "city, year, pop, chg, area = ('Tokyo', '2003', '32450', '0.66', '8014')\n",
    "\n",
    "# 元组拆包赋值"
   ]
  },
  {
   "cell_type": "markdown",
   "metadata": {},
   "source": [
    "## 2.5 序列和可迭代对象拆包"
   ]
  },
  {
   "cell_type": "code",
   "execution_count": 3,
   "metadata": {},
   "outputs": [
    {
     "name": "stdout",
     "output_type": "stream",
     "text": [
      "(2, 4)\n",
      "(2, 4)\n",
      "2 4\n"
     ]
    }
   ],
   "source": [
    "# 使用 * 运算符可以将一个可迭代对象拆开，作为函数的参数\n",
    "print(divmod(20,8))\n",
    "\n",
    "t = (20, 8)\n",
    "print(divmod(*t))\n",
    "\n",
    "quotient, remainder = divmod(*t )\n",
    "print(quotient, remainder)"
   ]
  },
  {
   "cell_type": "code",
   "execution_count": 5,
   "metadata": {},
   "outputs": [
    {
     "name": "stdout",
     "output_type": "stream",
     "text": [
      "idrsa.pub\n"
     ]
    }
   ],
   "source": [
    "# 使用 os.path.split() 可以获取文件路径以及最后一个文件名组成的元组\n",
    "import os \n",
    "_, filename = os.path.split('/home/Gowther/python_work/idrsa.pub')\n",
    "print(filename)"
   ]
  },
  {
   "cell_type": "markdown",
   "metadata": {},
   "source": [
    "### 2.5.1 使用 * 获取余下的项"
   ]
  },
  {
   "cell_type": "code",
   "execution_count": 11,
   "metadata": {},
   "outputs": [
    {
     "name": "stdout",
     "output_type": "stream",
     "text": [
      "0 1 [2, 3, 4]\n",
      "0 1 []\n",
      "0 [1, 2] 3 4\n"
     ]
    }
   ],
   "source": [
    "# 使用 *arg 来获取不确定数量的参数\n",
    "a, b, *rest = range(5)\n",
    "print(a,b,rest)\n",
    "\n",
    "a, b,*rest = range(2)\n",
    "print(a, b, rest)\n",
    "\n",
    "a, *rest, c, d = range(5)\n",
    "print(a, rest, c, d)"
   ]
  },
  {
   "cell_type": "code",
   "execution_count": 2,
   "metadata": {},
   "outputs": [
    {
     "ename": "ValueError",
     "evalue": "too many values to unpack (expected 3)",
     "output_type": "error",
     "traceback": [
      "\u001b[1;31m---------------------------------------------------------------------------\u001b[0m",
      "\u001b[1;31mValueError\u001b[0m                                Traceback (most recent call last)",
      "Cell \u001b[1;32mIn[2], line 1\u001b[0m\n\u001b[1;32m----> 1\u001b[0m a, b, rest \u001b[39m=\u001b[39m \u001b[39mrange\u001b[39m(\u001b[39m5\u001b[39m)\n\u001b[0;32m      2\u001b[0m \u001b[39mprint\u001b[39m(a,b,rest)\n",
      "\u001b[1;31mValueError\u001b[0m: too many values to unpack (expected 3)"
     ]
    }
   ],
   "source": [
    "a, b, rest = range(5)\n",
    "print(a,b,rest)"
   ]
  },
  {
   "cell_type": "markdown",
   "metadata": {},
   "source": [
    "### 2.5.2 在函数调用和序列字面量中使用 * 拆包"
   ]
  },
  {
   "cell_type": "code",
   "execution_count": 4,
   "metadata": {},
   "outputs": [
    {
     "data": {
      "text/plain": [
       "(1, 2, 3, 4, (5, 6, 7, 8, 9))"
      ]
     },
     "execution_count": 4,
     "metadata": {},
     "output_type": "execute_result"
    }
   ],
   "source": [
    "# 在函数调用中可以多次使用 * \n",
    "def fun(a,b,c,d,*rest):\n",
    "    return a, b, c, d,rest\n",
    "\n",
    "fun(*[1,2],3,*range(4,10))"
   ]
  },
  {
   "cell_type": "code",
   "execution_count": 8,
   "metadata": {},
   "outputs": [
    {
     "name": "stdout",
     "output_type": "stream",
     "text": [
      "0 1 2 3 5\n",
      "range(0, 4) 5\n",
      "[1, 2, 3, 5]\n",
      "[range(1, 4), 5]\n",
      "{0, 1, 2, 3, 5}\n",
      "{range(0, 4), 5}\n"
     ]
    }
   ],
   "source": [
    "# 定义列表，元组或集合字面量时，也可以使用 * \n",
    "print(*range(0,4),5)\n",
    "print(range(0,4),5)\n",
    "\n",
    "print([*range(1,4),5])\n",
    "print([range(1,4),5])\n",
    "\n",
    "print({5, *range(0,4)})\n",
    "print({5, range(0,4)})\n"
   ]
  },
  {
   "cell_type": "markdown",
   "metadata": {},
   "source": [
    "### 2.5.3 嵌套拆包"
   ]
  },
  {
   "cell_type": "code",
   "execution_count": 9,
   "metadata": {},
   "outputs": [
    {
     "name": "stdout",
     "output_type": "stream",
     "text": [
      "                |    lat    |   long.  \n",
      "Mexico ,City    |  19.4333  | -99.1333 \n",
      "New York-Newark |  40.8086  | -74.0204 \n",
      "Sao Paulo       | -23.5478  | -46.6358 \n"
     ]
    }
   ],
   "source": [
    "## 元组嵌套拆包\n",
    "metra_areas = [\n",
    "    ('tokyo','JP',36.933,(35.689722,139.691667)),\n",
    "    ('Delhi NCR','IN',21.935,(28.612889,77.208889)),\n",
    "    ('Mexico ,City','MX',20.142,(19.433333,-99.133333)),\n",
    "    ('New York-Newark','US',20.104,(40.808611,-74.020386)),\n",
    "    ('Sao Paulo','BR',19.649,(-23.547778,-46.635833))\n",
    "]\n",
    "\n",
    "def main():\n",
    "    print('{:15} | {:^9} | {:^9}'.format('','lat','long.'))\n",
    "    fmt = '{:15} | {:^9.4f} | {:^9.4f}'\n",
    "    for name, cc, pop, (latitude,longitude) in metra_areas:\n",
    "        if longitude <= 0:\n",
    "            print(fmt.format(name,latitude,longitude))\n",
    "if __name__ == '__main__':\n",
    "    main()"
   ]
  },
  {
   "cell_type": "code",
   "execution_count": 18,
   "metadata": {},
   "outputs": [
    {
     "name": "stdout",
     "output_type": "stream",
     "text": [
      "123456789\n"
     ]
    }
   ],
   "source": [
    "text = '123456789'\n",
    "print('{:5}'.format(text))"
   ]
  },
  {
   "cell_type": "code",
   "execution_count": 22,
   "metadata": {},
   "outputs": [
    {
     "name": "stdout",
     "output_type": "stream",
     "text": [
      "City(name='Tokyo', country='JP', population=36.933, coordinates=(35.689782, 139.691667))\n",
      "36.933\n",
      "Tokyo\n"
     ]
    }
   ],
   "source": [
    "# 使用 collection.nametuple 建立一个具名元组\n",
    "from collections import namedtuple\n",
    "\n",
    "City = namedtuple('City', 'name country population coordinates')\n",
    "tokyo = City('Tokyo','JP',36.933,(35.689    782,139.691667))\n",
    "\n",
    "print(tokyo)\n",
    "print(tokyo.population)\n",
    "print(tokyo[0])"
   ]
  },
  {
   "cell_type": "markdown",
   "metadata": {},
   "source": [
    "### 2.6.3 序列模式匹配"
   ]
  },
  {
   "cell_type": "code",
   "execution_count": null,
   "metadata": {},
   "outputs": [],
   "source": [
    "# 析构，一种高级的拆包方法\n",
    "# 假想的 Robot 类中的方法\n",
    "\n",
    "def handle_command(self, message):\n",
    "    match message: # match 后面的表达式是匹配对象，就是各个case语句尝试匹配的数据\n",
    "        case ['BEEPER',frequency,times]: # 匹配一个含有3项的序列，第一项必须是 'BEEPER'，后面两项任意，会依次绑定到 frequency、time 上\n",
    "            self.beep(times, frequency)\n",
    "        case ['NECK',angle]: # 匹配含有任意两项，且第一项为'NECK'\n",
    "            self.rotate_neck(angle)\n",
    "        case ['LED',ident, intensity]: # 匹配3项的序列，第一项为'LED',如果项数不匹配，则匹配下一项\n",
    "            self.leds[ident].set_brightness(ident,intensity)\n",
    "        case ['LED',ident, red, green, blue]:\n",
    "            self.leds[ident].set_color(ident,red,green, blue)\n",
    "        case _: # 以上所有项都不匹配时执行\n",
    "            raise InvalidCommand(message)"
   ]
  },
  {
   "cell_type": "code",
   "execution_count": 6,
   "metadata": {},
   "outputs": [
    {
     "name": "stdout",
     "output_type": "stream",
     "text": [
      "               |   lat   |  long   \n",
      "Mexico City    | 19.4333 |-99.1333 \n",
      "New York-Newark| 40.8086 |-74.0204 \n",
      "Sao Paulo      |-23.5478 |-46.6358 \n"
     ]
    }
   ],
   "source": [
    "# 析构匹配\n",
    "metra_areas = [\n",
    "    ('tokyo','JP',36.933,(35.689722,139.691667)),\n",
    "    ('Delhi NCR','IN',21.935,(28.612889,77.208889)),\n",
    "    ('Mexico City','MX',20.142,(19.433333,-99.133333)),\n",
    "    ('New York-Newark','US',20.104,(40.808611,-74.020386)),\n",
    "    ('Sao Paulo','BR',19.649,(-23.547778,-46.635833))\n",
    "]\n",
    "\n",
    "\n",
    "def main():\n",
    "    print('{:15}|{:^9}|{:^9}'.format('','lat','long'))\n",
    "    fmt = '{:15}|{:^9.4f}|{:^9.4f}'\n",
    "    for record in metra_areas:\n",
    "        match record:\n",
    "            case [name, _,_, (latitude, longitude)] if longitude <= 0:\n",
    "                print(fmt.format(name, latitude, longitude))\n",
    "\n",
    "if __name__ == '__main__':\n",
    "    main()"
   ]
  },
  {
   "cell_type": "markdown",
   "metadata": {},
   "source": [
    "## 2.7 切片"
   ]
  },
  {
   "cell_type": "markdown",
   "metadata": {},
   "source": [
    "### 2.7.1 为什么切片和区间排除最后一项(即左闭右开)"
   ]
  },
  {
   "cell_type": "code",
   "execution_count": 1,
   "metadata": {},
   "outputs": [
    {
     "name": "stdout",
     "output_type": "stream",
     "text": [
      "[10, 20]\n",
      "[30, 40, 50, 60]\n",
      "[10, 20]\n",
      "[30, 40, 50, 60]\n"
     ]
    }
   ],
   "source": [
    "l = [10,20,30,40,50,60]\n",
    "print(l[:2])\n",
    "print(l[2:])\n",
    "print(l[:2])\n",
    "print(l[2:])"
   ]
  },
  {
   "cell_type": "markdown",
   "metadata": {},
   "source": [
    "### 2.7.2 切片对象"
   ]
  },
  {
   "cell_type": "code",
   "execution_count": 3,
   "metadata": {},
   "outputs": [
    {
     "name": "stdout",
     "output_type": "stream",
     "text": [
      "bye\n",
      "elcycib\n",
      "eccb\n"
     ]
    }
   ],
   "source": [
    "s = 'bicycle'\n",
    "print(s[::3])\n",
    "print(s[::-1])\n",
    "print(s[::-2])"
   ]
  },
  {
   "cell_type": "markdown",
   "metadata": {},
   "source": []
  },
  {
   "cell_type": "code",
   "execution_count": null,
   "metadata": {},
   "outputs": [],
   "source": []
  }
 ],
 "metadata": {
  "kernelspec": {
   "display_name": "Python 3",
   "language": "python",
   "name": "python3"
  },
  "language_info": {
   "codemirror_mode": {
    "name": "ipython",
    "version": 3
   },
   "file_extension": ".py",
   "mimetype": "text/x-python",
   "name": "python",
   "nbconvert_exporter": "python",
   "pygments_lexer": "ipython3",
   "version": "3.10.0"
  },
  "orig_nbformat": 4,
  "vscode": {
   "interpreter": {
    "hash": "8a5edab282632443219e051e4ade2d1d5bbc671c781051bf1437897cbdfea0f1"
   }
  }
 },
 "nbformat": 4,
 "nbformat_minor": 2
}
