{
 "cells": [
  {
   "cell_type": "code",
   "execution_count": 1,
   "metadata": {},
   "outputs": [],
   "source": [
    "import pandas as pd"
   ]
  },
  {
   "cell_type": "code",
   "execution_count": 4,
   "metadata": {},
   "outputs": [
    {
     "data": {
      "text/plain": [
       "'$¢£¥€¤'"
      ]
     },
     "execution_count": 4,
     "metadata": {},
     "output_type": "execute_result"
    }
   ],
   "source": [
    "symbols = chr(36)+chr(162)+chr(163)+chr(165)+chr(8364)+chr(164)\n",
    "symbols"
   ]
  },
  {
   "cell_type": "code",
   "execution_count": 6,
   "metadata": {},
   "outputs": [
    {
     "data": {
      "text/plain": [
       "[36, 162, 163, 165, 8364, 164]"
      ]
     },
     "execution_count": 6,
     "metadata": {},
     "output_type": "execute_result"
    }
   ],
   "source": [
    "codes = [ord(symbol) for symbol in symbols]\n",
    "codes"
   ]
  },
  {
   "cell_type": "code",
   "execution_count": 7,
   "metadata": {},
   "outputs": [
    {
     "data": {
      "text/plain": [
       "(36, 162, 163, 165, 8364, 164)"
      ]
     },
     "execution_count": 7,
     "metadata": {},
     "output_type": "execute_result"
    }
   ],
   "source": [
    "tuple(ord(symbol) for symbol in symbols)"
   ]
  },
  {
   "cell_type": "code",
   "execution_count": null,
   "metadata": {},
   "outputs": [],
   "source": [
    "# 记录经纬度\n",
    "lax_coordinates = (33,-118)\n",
    "\n",
    "# 元组拆包赋值\n",
    "city, year, pop, chg, area = ('Tokyo', '2003', '32450', '0.66', '8014')\n",
    "\n",
    "# 元组拆包赋值"
   ]
  },
  {
   "cell_type": "code",
   "execution_count": 3,
   "metadata": {},
   "outputs": [
    {
     "name": "stdout",
     "output_type": "stream",
     "text": [
      "(2, 4)\n",
      "(2, 4)\n",
      "2 4\n"
     ]
    }
   ],
   "source": [
    "# 使用 * 运算符可以将一个可迭代对象拆开，作为函数的参数\n",
    "print(divmod(20,8))\n",
    "\n",
    "t = (20, 8)\n",
    "print(divmod(*t))\n",
    "\n",
    "quotient, remainder = divmod(*t )\n",
    "print(quotient, remainder)"
   ]
  },
  {
   "cell_type": "code",
   "execution_count": 5,
   "metadata": {},
   "outputs": [
    {
     "name": "stdout",
     "output_type": "stream",
     "text": [
      "idrsa.pub\n"
     ]
    }
   ],
   "source": [
    "# 使用 os.path.split() 可以获取文件路径以及最后一个文件名组成的元组\n",
    "import os \n",
    "_, filename = os.path.split('/home/Gowther/python_work/idrsa.pub')\n",
    "print(filename)"
   ]
  },
  {
   "cell_type": "code",
   "execution_count": 11,
   "metadata": {},
   "outputs": [
    {
     "name": "stdout",
     "output_type": "stream",
     "text": [
      "0 1 [2, 3, 4]\n",
      "0 1 []\n",
      "0 [1, 2] 3 4\n"
     ]
    }
   ],
   "source": [
    "# 使用 *arg 来获取不确定数量的参数\n",
    "a, b, *rest = range(5)\n",
    "print(a,b,rest)\n",
    "\n",
    "a, b,*rest = range(2)\n",
    "print(a, b, rest)\n",
    "\n",
    "a, *rest, c, d = range(5)\n",
    "print(a, rest, c, d)"
   ]
  },
  {
   "cell_type": "code",
   "execution_count": 17,
   "metadata": {},
   "outputs": [
    {
     "name": "stdout",
     "output_type": "stream",
     "text": [
      "                |    lat    |   long.  \n",
      "Mexico ,City    |  19.4333  | -99.1333 \n",
      "New York-Newark |  40.8086  | -74.0204 \n",
      "Sao Paulo       | -23.5478  | -46.6358 \n"
     ]
    }
   ],
   "source": [
    "## 元组嵌套拆包\n",
    "metra_areas = [\n",
    "    ('tokyo','JP',36.933,(35.689722,139.691667)),\n",
    "    ('Delhi NCR','IN',21.935,(28.612889,77.208889)),\n",
    "    ('Mexico ,City','MX',20.142,(19.433333,-99.133333)),\n",
    "    ('New York-Newark','US',20.104,(40.808611,-74.020386)),\n",
    "    ('Sao Paulo','BR',19.649,(-23.547778,-46.635833))\n",
    "]\n",
    "print('{:15} | {:^9} | {:^9}'.format('','lat','long.'))\n",
    "fmt = '{:15} | {:^9.4f} | {:^9.4f}'\n",
    "for name, cc, pop, (latitude,longitude) in metra_areas:\n",
    "    if longitude <= 0:\n",
    "        print(fmt.format(name,latitude,longitude))"
   ]
  },
  {
   "cell_type": "code",
   "execution_count": 18,
   "metadata": {},
   "outputs": [
    {
     "name": "stdout",
     "output_type": "stream",
     "text": [
      "123456789\n"
     ]
    }
   ],
   "source": [
    "text = '123456789'\n",
    "print('{:5}'.format(text))"
   ]
  },
  {
   "cell_type": "code",
   "execution_count": 22,
   "metadata": {},
   "outputs": [
    {
     "name": "stdout",
     "output_type": "stream",
     "text": [
      "City(name='Tokyo', country='JP', population=36.933, coordinates=(35.689782, 139.691667))\n",
      "36.933\n",
      "Tokyo\n"
     ]
    }
   ],
   "source": [
    "# 使用 collection.nametuple 建立一个具名元组\n",
    "from collections import namedtuple\n",
    "\n",
    "City = namedtuple('City', 'name country population coordinates')\n",
    "tokyo = City('Tokyo','JP',36.933,(35.689    782,139.691667))\n",
    "\n",
    "print(tokyo)\n",
    "print(tokyo.population)\n",
    "print(tokyo[0])"
   ]
  },
  {
   "cell_type": "code",
   "execution_count": null,
   "metadata": {},
   "outputs": [],
   "source": []
  }
 ],
 "metadata": {
  "kernelspec": {
   "display_name": "Python 3",
   "language": "python",
   "name": "python3"
  },
  "language_info": {
   "codemirror_mode": {
    "name": "ipython",
    "version": 3
   },
   "file_extension": ".py",
   "mimetype": "text/x-python",
   "name": "python",
   "nbconvert_exporter": "python",
   "pygments_lexer": "ipython3",
   "version": "3.10.0"
  },
  "orig_nbformat": 4,
  "vscode": {
   "interpreter": {
    "hash": "8a5edab282632443219e051e4ade2d1d5bbc671c781051bf1437897cbdfea0f1"
   }
  }
 },
 "nbformat": 4,
 "nbformat_minor": 2
}
