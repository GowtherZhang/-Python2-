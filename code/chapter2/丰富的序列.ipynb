{
 "cells": [
  {
   "cell_type": "code",
   "execution_count": 1,
   "metadata": {},
   "outputs": [],
   "source": [
    "import pandas as pd"
   ]
  },
  {
   "cell_type": "code",
   "execution_count": 4,
   "metadata": {},
   "outputs": [
    {
     "data": {
      "text/plain": [
       "'$¢£¥€¤'"
      ]
     },
     "execution_count": 4,
     "metadata": {},
     "output_type": "execute_result"
    }
   ],
   "source": [
    "symbols = chr(36)+chr(162)+chr(163)+chr(165)+chr(8364)+chr(164)\n",
    "symbols"
   ]
  },
  {
   "cell_type": "code",
   "execution_count": 6,
   "metadata": {},
   "outputs": [
    {
     "data": {
      "text/plain": [
       "[36, 162, 163, 165, 8364, 164]"
      ]
     },
     "execution_count": 6,
     "metadata": {},
     "output_type": "execute_result"
    }
   ],
   "source": [
    "codes = [ord(symbol) for symbol in symbols]\n",
    "codes"
   ]
  },
  {
   "cell_type": "code",
   "execution_count": 7,
   "metadata": {},
   "outputs": [
    {
     "data": {
      "text/plain": [
       "(36, 162, 163, 165, 8364, 164)"
      ]
     },
     "execution_count": 7,
     "metadata": {},
     "output_type": "execute_result"
    }
   ],
   "source": [
    "tuple(ord(symbol) for symbol in symbols)"
   ]
  },
  {
   "cell_type": "markdown",
   "metadata": {},
   "source": [
    "### 2.4.1 用作记录"
   ]
  },
  {
   "cell_type": "code",
   "execution_count": 1,
   "metadata": {},
   "outputs": [
    {
     "name": "stdout",
     "output_type": "stream",
     "text": [
      "BRA/CE342567\n",
      "ESP/XDA205856\n",
      "USA/31195855\n"
     ]
    }
   ],
   "source": [
    "lax_coordinates = (33,-118)\n",
    "city, year, pop, chg, area = ('Tokyo', '2003', '32450', '0.66', '8014')\n",
    "\n",
    "traveler_ids = [('USA','31195855'),('BRA','CE342567'),('ESP','XDA205856')]\n",
    "for passport in sorted(traveler_ids):\n",
    "    print('%s/%s' % passport)"
   ]
  },
  {
   "cell_type": "code",
   "execution_count": null,
   "metadata": {},
   "outputs": [],
   "source": [
    "# 元组拆包赋值\n",
    "city, year, pop, chg, area = ('Tokyo', '2003', '32450', '0.66', '8014')\n",
    "\n",
    "# 元组拆包赋值"
   ]
  },
  {
   "cell_type": "markdown",
   "metadata": {},
   "source": [
    "## 2.5 序列和可迭代对象拆包"
   ]
  },
  {
   "cell_type": "code",
   "execution_count": 3,
   "metadata": {},
   "outputs": [
    {
     "name": "stdout",
     "output_type": "stream",
     "text": [
      "(2, 4)\n",
      "(2, 4)\n",
      "2 4\n"
     ]
    }
   ],
   "source": [
    "# 使用 * 运算符可以将一个可迭代对象拆开，作为函数的参数\n",
    "print(divmod(20,8))\n",
    "\n",
    "t = (20, 8)\n",
    "print(divmod(*t))\n",
    "\n",
    "quotient, remainder = divmod(*t )\n",
    "print(quotient, remainder)"
   ]
  },
  {
   "cell_type": "code",
   "execution_count": 5,
   "metadata": {},
   "outputs": [
    {
     "name": "stdout",
     "output_type": "stream",
     "text": [
      "idrsa.pub\n"
     ]
    }
   ],
   "source": [
    "# 使用 os.path.split() 可以获取文件路径以及最后一个文件名组成的元组\n",
    "import os \n",
    "_, filename = os.path.split('/home/Gowther/python_work/idrsa.pub')\n",
    "print(filename)"
   ]
  },
  {
   "cell_type": "markdown",
   "metadata": {},
   "source": [
    "### 2.5.1 使用 * 获取余下的项"
   ]
  },
  {
   "cell_type": "code",
   "execution_count": 11,
   "metadata": {},
   "outputs": [
    {
     "name": "stdout",
     "output_type": "stream",
     "text": [
      "0 1 [2, 3, 4]\n",
      "0 1 []\n",
      "0 [1, 2] 3 4\n"
     ]
    }
   ],
   "source": [
    "# 使用 *arg 来获取不确定数量的参数\n",
    "a, b, *rest = range(5)\n",
    "print(a,b,rest)\n",
    "\n",
    "a, b,*rest = range(2)\n",
    "print(a, b, rest)\n",
    "\n",
    "a, *rest, c, d = range(5)\n",
    "print(a, rest, c, d)"
   ]
  },
  {
   "cell_type": "code",
   "execution_count": 2,
   "metadata": {},
   "outputs": [
    {
     "ename": "ValueError",
     "evalue": "too many values to unpack (expected 3)",
     "output_type": "error",
     "traceback": [
      "\u001b[1;31m---------------------------------------------------------------------------\u001b[0m",
      "\u001b[1;31mValueError\u001b[0m                                Traceback (most recent call last)",
      "Cell \u001b[1;32mIn[2], line 1\u001b[0m\n\u001b[1;32m----> 1\u001b[0m a, b, rest \u001b[39m=\u001b[39m \u001b[39mrange\u001b[39m(\u001b[39m5\u001b[39m)\n\u001b[0;32m      2\u001b[0m \u001b[39mprint\u001b[39m(a,b,rest)\n",
      "\u001b[1;31mValueError\u001b[0m: too many values to unpack (expected 3)"
     ]
    }
   ],
   "source": [
    "a, b, rest = range(5)\n",
    "print(a,b,rest)"
   ]
  },
  {
   "cell_type": "markdown",
   "metadata": {},
   "source": [
    "### 2.5.2 在函数调用和序列字面量中使用 * 拆包"
   ]
  },
  {
   "cell_type": "code",
   "execution_count": 4,
   "metadata": {},
   "outputs": [
    {
     "data": {
      "text/plain": [
       "(1, 2, 3, 4, (5, 6, 7, 8, 9))"
      ]
     },
     "execution_count": 4,
     "metadata": {},
     "output_type": "execute_result"
    }
   ],
   "source": [
    "# 在函数调用中可以多次使用 * \n",
    "def fun(a,b,c,d,*rest):\n",
    "    return a, b, c, d,rest\n",
    "\n",
    "fun(*[1,2],3,*range(4,10))"
   ]
  },
  {
   "cell_type": "code",
   "execution_count": 8,
   "metadata": {},
   "outputs": [
    {
     "name": "stdout",
     "output_type": "stream",
     "text": [
      "0 1 2 3 5\n",
      "range(0, 4) 5\n",
      "[1, 2, 3, 5]\n",
      "[range(1, 4), 5]\n",
      "{0, 1, 2, 3, 5}\n",
      "{range(0, 4), 5}\n"
     ]
    }
   ],
   "source": [
    "# 定义列表，元组或集合字面量时，也可以使用 * \n",
    "print(*range(0,4),5)\n",
    "print(range(0,4),5)\n",
    "\n",
    "print([*range(1,4),5])\n",
    "print([range(1,4),5])\n",
    "\n",
    "print({5, *range(0,4)})\n",
    "print({5, range(0,4)})\n"
   ]
  },
  {
   "cell_type": "markdown",
   "metadata": {},
   "source": [
    "### 2.5.3 嵌套拆包"
   ]
  },
  {
   "cell_type": "code",
   "execution_count": 9,
   "metadata": {},
   "outputs": [
    {
     "name": "stdout",
     "output_type": "stream",
     "text": [
      "                |    lat    |   long.  \n",
      "Mexico ,City    |  19.4333  | -99.1333 \n",
      "New York-Newark |  40.8086  | -74.0204 \n",
      "Sao Paulo       | -23.5478  | -46.6358 \n"
     ]
    }
   ],
   "source": [
    "## 元组嵌套拆包\n",
    "metra_areas = [\n",
    "    ('tokyo','JP',36.933,(35.689722,139.691667)),\n",
    "    ('Delhi NCR','IN',21.935,(28.612889,77.208889)),\n",
    "    ('Mexico ,City','MX',20.142,(19.433333,-99.133333)),\n",
    "    ('New York-Newark','US',20.104,(40.808611,-74.020386)),\n",
    "    ('Sao Paulo','BR',19.649,(-23.547778,-46.635833))\n",
    "]\n",
    "\n",
    "def main():\n",
    "    print('{:15} | {:^9} | {:^9}'.format('','lat','long.'))\n",
    "    fmt = '{:15} | {:^9.4f} | {:^9.4f}'\n",
    "    for name, cc, pop, (latitude,longitude) in metra_areas:\n",
    "        if longitude <= 0:\n",
    "            print(fmt.format(name,latitude,longitude))\n",
    "if __name__ == '__main__':\n",
    "    main()"
   ]
  },
  {
   "cell_type": "code",
   "execution_count": 18,
   "metadata": {},
   "outputs": [
    {
     "name": "stdout",
     "output_type": "stream",
     "text": [
      "123456789\n"
     ]
    }
   ],
   "source": [
    "text = '123456789'\n",
    "print('{:5}'.format(text))"
   ]
  },
  {
   "cell_type": "code",
   "execution_count": 22,
   "metadata": {},
   "outputs": [
    {
     "name": "stdout",
     "output_type": "stream",
     "text": [
      "City(name='Tokyo', country='JP', population=36.933, coordinates=(35.689782, 139.691667))\n",
      "36.933\n",
      "Tokyo\n"
     ]
    }
   ],
   "source": [
    "# 使用 collection.nametuple 建立一个具名元组\n",
    "from collections import namedtuple\n",
    "\n",
    "City = namedtuple('City', 'name country population coordinates')\n",
    "tokyo = City('Tokyo','JP',36.933,(35.689    782,139.691667))\n",
    "\n",
    "print(tokyo)\n",
    "print(tokyo.population)\n",
    "print(tokyo[0])"
   ]
  },
  {
   "cell_type": "markdown",
   "metadata": {},
   "source": [
    "### 2.6.3 序列模式匹配"
   ]
  },
  {
   "cell_type": "code",
   "execution_count": null,
   "metadata": {},
   "outputs": [],
   "source": [
    "# 析构，一种高级的拆包方法\n",
    "# 假想的 Robot 类中的方法\n",
    "\n",
    "def handle_command(self, message):\n",
    "    match message: # match 后面的表达式是匹配对象，就是各个case语句尝试匹配的数据\n",
    "        case ['BEEPER',frequency,times]: # 匹配一个含有3项的序列，第一项必须是 'BEEPER'，后面两项任意，会依次绑定到 frequency、time 上\n",
    "            self.beep(times, frequency)\n",
    "        case ['NECK',angle]: # 匹配含有任意两项，且第一项为'NECK'\n",
    "            self.rotate_neck(angle)\n",
    "        case ['LED',ident, intensity]: # 匹配3项的序列，第一项为'LED',如果项数不匹配，则匹配下一项\n",
    "            self.leds[ident].set_brightness(ident,intensity)\n",
    "        case ['LED',ident, red, green, blue]:\n",
    "            self.leds[ident].set_color(ident,red,green, blue)\n",
    "        case _: # 以上所有项都不匹配时执行\n",
    "            raise InvalidCommand(message)"
   ]
  },
  {
   "cell_type": "code",
   "execution_count": 6,
   "metadata": {},
   "outputs": [
    {
     "name": "stdout",
     "output_type": "stream",
     "text": [
      "               |   lat   |  long   \n",
      "Mexico City    | 19.4333 |-99.1333 \n",
      "New York-Newark| 40.8086 |-74.0204 \n",
      "Sao Paulo      |-23.5478 |-46.6358 \n"
     ]
    }
   ],
   "source": [
    "# 析构匹配\n",
    "metra_areas = [\n",
    "    ('tokyo','JP',36.933,(35.689722,139.691667)),\n",
    "    ('Delhi NCR','IN',21.935,(28.612889,77.208889)),\n",
    "    ('Mexico City','MX',20.142,(19.433333,-99.133333)),\n",
    "    ('New York-Newark','US',20.104,(40.808611,-74.020386)),\n",
    "    ('Sao Paulo','BR',19.649,(-23.547778,-46.635833))\n",
    "]\n",
    "\n",
    "\n",
    "def main():\n",
    "    print('{:15}|{:^9}|{:^9}'.format('','lat','long'))\n",
    "    fmt = '{:15}|{:^9.4f}|{:^9.4f}'\n",
    "    for record in metra_areas:\n",
    "        match record:\n",
    "            case [name, _,_, (latitude, longitude)] if longitude <= 0:\n",
    "                print(fmt.format(name, latitude, longitude))\n",
    "\n",
    "if __name__ == '__main__':\n",
    "    main()"
   ]
  },
  {
   "cell_type": "markdown",
   "metadata": {},
   "source": [
    "## 2.7 切片"
   ]
  },
  {
   "cell_type": "markdown",
   "metadata": {},
   "source": [
    "### 2.7.1 为什么切片和区间排除最后一项(即左闭右开)"
   ]
  },
  {
   "cell_type": "code",
   "execution_count": 1,
   "metadata": {},
   "outputs": [
    {
     "name": "stdout",
     "output_type": "stream",
     "text": [
      "[10, 20]\n",
      "[30, 40, 50, 60]\n",
      "[10, 20]\n",
      "[30, 40, 50, 60]\n"
     ]
    }
   ],
   "source": [
    "l = [10,20,30,40,50,60]\n",
    "print(l[:2])\n",
    "print(l[2:])\n",
    "print(l[:2])\n",
    "print(l[2:])"
   ]
  },
  {
   "cell_type": "markdown",
   "metadata": {},
   "source": [
    "### 2.7.2 切片对象"
   ]
  },
  {
   "cell_type": "code",
   "execution_count": 3,
   "metadata": {},
   "outputs": [
    {
     "name": "stdout",
     "output_type": "stream",
     "text": [
      "bye\n",
      "elcycib\n",
      "eccb\n"
     ]
    }
   ],
   "source": [
    "s = 'bicycle'\n",
    "print(s[::3])\n",
    "print(s[::-1])\n",
    "print(s[::-2])"
   ]
  },
  {
   "cell_type": "markdown",
   "metadata": {},
   "source": [
    "### 2.7.3 多维切片与省略号"
   ]
  },
  {
   "cell_type": "code",
   "execution_count": 1,
   "metadata": {},
   "outputs": [
    {
     "data": {
      "text/plain": [
       "[3, 4, 5]"
      ]
     },
     "execution_count": 1,
     "metadata": {},
     "output_type": "execute_result"
    }
   ],
   "source": [
    "# 多维切片，这里只展示常规的序列并不能满足多维切片\n",
    "a = [1,2,3,4,5,6,7,8]\n",
    "\n",
    "a[2:5]"
   ]
  },
  {
   "cell_type": "code",
   "execution_count": 6,
   "metadata": {},
   "outputs": [
    {
     "data": {
      "text/plain": [
       "[1, 3, 5, 7]"
      ]
     },
     "execution_count": 6,
     "metadata": {},
     "output_type": "execute_result"
    }
   ],
   "source": [
    "a[0:7:2]"
   ]
  },
  {
   "cell_type": "code",
   "execution_count": 2,
   "metadata": {},
   "outputs": [
    {
     "ename": "TypeError",
     "evalue": "list indices must be integers or slices, not tuple",
     "output_type": "error",
     "traceback": [
      "\u001b[1;31m---------------------------------------------------------------------------\u001b[0m",
      "\u001b[1;31mTypeError\u001b[0m                                 Traceback (most recent call last)",
      "Cell \u001b[1;32mIn[2], line 1\u001b[0m\n\u001b[1;32m----> 1\u001b[0m a[\u001b[39m1\u001b[39;49m:\u001b[39m3\u001b[39;49m,\u001b[39m4\u001b[39;49m:\u001b[39m7\u001b[39;49m]\n",
      "\u001b[1;31mTypeError\u001b[0m: list indices must be integers or slices, not tuple"
     ]
    }
   ],
   "source": [
    "a[1:3,4:7]"
   ]
  },
  {
   "cell_type": "code",
   "execution_count": 8,
   "metadata": {},
   "outputs": [
    {
     "ename": "TypeError",
     "evalue": "list indices must be integers or slices, not tuple",
     "output_type": "error",
     "traceback": [
      "\u001b[1;31m---------------------------------------------------------------------------\u001b[0m",
      "\u001b[1;31mTypeError\u001b[0m                                 Traceback (most recent call last)",
      "Cell \u001b[1;32mIn[8], line 5\u001b[0m\n\u001b[0;32m      2\u001b[0m my_list \u001b[39m=\u001b[39m [[\u001b[39m1\u001b[39m, \u001b[39m2\u001b[39m, \u001b[39m3\u001b[39m], [\u001b[39m4\u001b[39m, \u001b[39m5\u001b[39m, \u001b[39m6\u001b[39m], [\u001b[39m7\u001b[39m, \u001b[39m8\u001b[39m, \u001b[39m9\u001b[39m]]\n\u001b[0;32m      4\u001b[0m \u001b[39m# 使用 Ellipsis 来切片\u001b[39;00m\n\u001b[1;32m----> 5\u001b[0m result \u001b[39m=\u001b[39m my_list[\u001b[39m1\u001b[39;49m, \u001b[39m.\u001b[39;49m\u001b[39m.\u001b[39;49m\u001b[39m.\u001b[39;49m]\n\u001b[0;32m      6\u001b[0m \u001b[39mprint\u001b[39m(result)  \u001b[39m# 输出: [4, 5, 6]\u001b[39;00m\n\u001b[0;32m      8\u001b[0m \u001b[39m# 或者使用省略号表示完整切片\u001b[39;00m\n",
      "\u001b[1;31mTypeError\u001b[0m: list indices must be integers or slices, not tuple"
     ]
    }
   ],
   "source": [
    "# 省略号\n",
    "my_list = [[1, 2, 3], [4, 5, 6], [7, 8, 9]]\n",
    "\n",
    "# 使用 Ellipsis 来切片\n",
    "result = my_list[1, ...]\n",
    "print(result)  # 输出: [4, 5, 6]\n",
    "\n",
    "# 或者使用省略号表示完整切片\n",
    "result = my_list[1, :, ...]\n",
    "print(result)  # 输出: [4, 5, 6]\n"
   ]
  },
  {
   "cell_type": "code",
   "execution_count": 10,
   "metadata": {},
   "outputs": [
    {
     "name": "stdout",
     "output_type": "stream",
     "text": [
      "[[1 2 3]\n",
      " [4 5 6]]\n",
      "[2 5]\n",
      "[1 2 3]\n",
      "[[1 3]\n",
      " [4 6]]\n"
     ]
    }
   ],
   "source": [
    "# 省略号\n",
    "import numpy as np\n",
    "\n",
    "array = np.array([[1, 2, 3], [4, 5, 6]])\n",
    "\n",
    "print(array[...]) \n",
    "# [[1 2 3]\n",
    "#  [4 5 6]]\n",
    "\n",
    "print(array[..., 1])  \n",
    "# [2 5]\n",
    "\n",
    "print(array[0, ...])\n",
    "# [1 2 3]\n",
    "\n",
    "print(array[..., ::2])\n",
    "# [[1 3]\n",
    "#  [4 6]]\n"
   ]
  },
  {
   "cell_type": "markdown",
   "metadata": {},
   "source": [
    "### 2.7.4 为切片赋值"
   ]
  },
  {
   "cell_type": "code",
   "execution_count": 15,
   "metadata": {},
   "outputs": [
    {
     "data": {
      "text/plain": [
       "[0, 1, 20, 100, 4, 200, 8]"
      ]
     },
     "execution_count": 15,
     "metadata": {},
     "output_type": "execute_result"
    }
   ],
   "source": [
    "a = [0,1,2,3,4,5,6,7,8]\n",
    "\n",
    "a[2:4] = [20,30]\n",
    "# [0,1,20,30,4,5,6,7,8]\n",
    "\n",
    "del a[5:7]\n",
    "# [0,1,20,30,4,7,8]\n",
    "\n",
    "a[3::2] = [100,200]\n",
    "# # [0,1,20,100,4,200,8]\n",
    "\n",
    "a"
   ]
  },
  {
   "cell_type": "markdown",
   "metadata": {},
   "source": [
    "## 2.8 使用 + 与 * 处理序列"
   ]
  },
  {
   "cell_type": "code",
   "execution_count": 17,
   "metadata": {},
   "outputs": [
    {
     "data": {
      "text/plain": [
       "[1, 2, 3, 4, 5, 6]"
      ]
     },
     "execution_count": 17,
     "metadata": {},
     "output_type": "execute_result"
    }
   ],
   "source": [
    "# + 通常用来将同种序列拼接成一个新的同类型序列\n",
    "a = [1,2,3]\n",
    "b = [4,5,6]\n",
    "a + b\n",
    "\n",
    "# [1, 2, 3, 4, 5, 6]"
   ]
  },
  {
   "cell_type": "code",
   "execution_count": 18,
   "metadata": {},
   "outputs": [
    {
     "data": {
      "text/plain": [
       "[1, 2, 3, 1, 2, 3, 1, 2, 3]"
      ]
     },
     "execution_count": 18,
     "metadata": {},
     "output_type": "execute_result"
    }
   ],
   "source": [
    "# * 通常用来多次拼接同一个序列\n",
    "a = [1,2,3]\n",
    "b = a * 3\n",
    "b\n",
    "\n",
    "# [1, 2, 3, 1, 2, 3, 1, 2, 3]"
   ]
  },
  {
   "cell_type": "markdown",
   "metadata": {},
   "source": [
    "### 2.8.3 构建可变列表"
   ]
  },
  {
   "cell_type": "code",
   "execution_count": 20,
   "metadata": {},
   "outputs": [
    {
     "name": "stdout",
     "output_type": "stream",
     "text": [
      "[['_', '_', '_'], ['_', '_', '_'], ['_', '_', '_']]\n",
      "[['_', '_', '_'], ['_', '_', 'X'], ['_', '_', '_']]\n",
      "[['_', '_', '_'], ['_', '_', '_'], ['_', '_', '_']]\n",
      "[['_', '_', 'X'], ['_', '_', 'X'], ['_', '_', 'X']]\n"
     ]
    }
   ],
   "source": [
    "# 下面构建的这个新列表中的三个子项，相当于每次添加的都是新的列表，三个子项并不相同\n",
    "board = [['_'] * 3 for i in range(3)]\n",
    "print(board)\n",
    "\n",
    "board[1][2] = 'X'\n",
    "print(board)\n",
    "\n",
    "# 下面构建的这个新列表中的三个子项，都指向同一个列表，所以改了一个，3个全变\n",
    "weird_board = [['_'] * 3] * 3\n",
    "print(weird_board)\n",
    "weird_board[1][2] = 'X'\n",
    "print(weird_board)"
   ]
  },
  {
   "cell_type": "markdown",
   "metadata": {},
   "source": [
    "### 2.8.2使用增量运算符处理序列"
   ]
  },
  {
   "cell_type": "code",
   "execution_count": 21,
   "metadata": {},
   "outputs": [
    {
     "name": "stdout",
     "output_type": "stream",
     "text": [
      "2292844216832\n",
      "2292844216832\n"
     ]
    }
   ],
   "source": [
    "# 对于可变序列来说，使用 += 相当于对原有的对象进行扩展,对象ID不变\n",
    "a = [1,2,3]\n",
    "print(id(a))\n",
    "\n",
    "b = [4,5,6]\n",
    "a += b\n",
    "print(id(a))\n"
   ]
  },
  {
   "cell_type": "code",
   "execution_count": 22,
   "metadata": {},
   "outputs": [
    {
     "name": "stdout",
     "output_type": "stream",
     "text": [
      "2292844223040\n",
      "2292843049888\n"
     ]
    }
   ],
   "source": [
    "# 对于不可变序列来说，使用 += 相当于将得到的结果绑定到一个新的对象上，ID变化\n",
    "a = (1,2,3)\n",
    "print(id(a))\n",
    "\n",
    "b = (4,5,6)\n",
    "a += b\n",
    "print(id(a))"
   ]
  },
  {
   "cell_type": "markdown",
   "metadata": {},
   "source": [
    "### 2.8.3 一个 += 运算符赋值谜题"
   ]
  },
  {
   "cell_type": "code",
   "execution_count": 26,
   "metadata": {},
   "outputs": [
    {
     "ename": "TypeError",
     "evalue": "'tuple' object does not support item assignment",
     "output_type": "error",
     "traceback": [
      "\u001b[1;31m---------------------------------------------------------------------------\u001b[0m",
      "\u001b[1;31mTypeError\u001b[0m                                 Traceback (most recent call last)",
      "Cell \u001b[1;32mIn[26], line 2\u001b[0m\n\u001b[0;32m      1\u001b[0m t \u001b[39m=\u001b[39m (\u001b[39m1\u001b[39m,\u001b[39m2\u001b[39m,[\u001b[39m30\u001b[39m,\u001b[39m40\u001b[39m])\n\u001b[1;32m----> 2\u001b[0m t[\u001b[39m2\u001b[39;49m] \u001b[39m+\u001b[39m\u001b[39m=\u001b[39m [\u001b[39m10\u001b[39m,\u001b[39m20\u001b[39m]\n\u001b[0;32m      3\u001b[0m t\n",
      "\u001b[1;31mTypeError\u001b[0m: 'tuple' object does not support item assignment"
     ]
    }
   ],
   "source": [
    "t = (1,2,[30,40])\n",
    "t[2] += [10,20]"
   ]
  },
  {
   "cell_type": "code",
   "execution_count": 27,
   "metadata": {},
   "outputs": [
    {
     "data": {
      "text/plain": [
       "[30, 40, 10, 20]"
      ]
     },
     "execution_count": 27,
     "metadata": {},
     "output_type": "execute_result"
    }
   ],
   "source": [
    "t[2]"
   ]
  },
  {
   "cell_type": "code",
   "execution_count": 28,
   "metadata": {},
   "outputs": [
    {
     "data": {
      "text/plain": [
       "(1, 2, [30, 40, 10, 20])"
      ]
     },
     "execution_count": 28,
     "metadata": {},
     "output_type": "execute_result"
    }
   ],
   "source": [
    "t"
   ]
  },
  {
   "cell_type": "code",
   "execution_count": 32,
   "metadata": {},
   "outputs": [
    {
     "name": "stdout",
     "output_type": "stream",
     "text": [
      "  7           0 LOAD_GLOBAL              0 (t)\n",
      "              2 LOAD_GLOBAL              1 (a)\n",
      "              4 DUP_TOP_TWO\n",
      "              6 BINARY_SUBSCR\n",
      "              8 LOAD_GLOBAL              2 (b)\n",
      "             10 INPLACE_ADD\n",
      "             12 ROT_THREE\n",
      "             14 STORE_SUBSCR\n",
      "             16 LOAD_CONST               0 (None)\n",
      "             18 RETURN_VALUE\n"
     ]
    }
   ],
   "source": [
    "# 查看字节码\n",
    "import dis\n",
    "t = (1, 2, [30,40]) \n",
    "a = 2\n",
    "b = [10, 20]\n",
    "def test():\n",
    "    t[a] += b  \n",
    "\n",
    "dis.dis(test)"
   ]
  },
  {
   "cell_type": "markdown",
   "metadata": {},
   "source": [
    "## 2.9 list.sort() 与内置函数 sorted"
   ]
  },
  {
   "cell_type": "code",
   "execution_count": 33,
   "metadata": {},
   "outputs": [
    {
     "name": "stdout",
     "output_type": "stream",
     "text": [
      "['apple', 'banana', 'grape', 'raspberry']\n",
      "['grape', 'raspberry', 'apple', 'banana']\n",
      "['raspberry', 'grape', 'banana', 'apple']\n",
      "['grape', 'raspberry', 'apple', 'banana']\n",
      "['grape', 'apple', 'banana', 'raspberry']\n",
      "['grape', 'raspberry', 'apple', 'banana']\n",
      "['raspberry', 'banana', 'grape', 'apple']\n",
      "['grape', 'raspberry', 'apple', 'banana']\n",
      "None\n",
      "['apple', 'banana', 'grape', 'raspberry']\n"
     ]
    }
   ],
   "source": [
    "fruits = ['grape', 'raspberry', 'apple', 'banana',]\n",
    "\n",
    "print(sorted(fruits))\n",
    "print(fruits)\n",
    "\n",
    "print(sorted(fruits, reverse=True))\n",
    "print(fruits)\n",
    "\n",
    "print(sorted(fruits, key=len))\n",
    "print(fruits)\n",
    "\n",
    "print(sorted(fruits, key=len, reverse=True))\n",
    "print(fruits)\n",
    "\n",
    "print(fruits.sort())\n",
    "print(fruits)"
   ]
  },
  {
   "cell_type": "markdown",
   "metadata": {},
   "source": [
    "## 2.10 当列表不再适用"
   ]
  },
  {
   "cell_type": "markdown",
   "metadata": {},
   "source": [
    "### 2.10.1 数组"
   ]
  },
  {
   "cell_type": "code",
   "execution_count": 9,
   "metadata": {},
   "outputs": [
    {
     "name": "stdout",
     "output_type": "stream",
     "text": [
      "0.9551111980842537\n",
      "10000000\n",
      "0.9551111980842537\n",
      "True\n"
     ]
    }
   ],
   "source": [
    "# 创建、保存和加载一个大型浮点数组\n",
    "from array import array # 导入array类型\n",
    "from random import random\n",
    "\n",
    "floats = array('d',(random() for i in range(10**7))) # 创建一个双精度浮点数数组，类型代码为d,长度为一千万\n",
    "print(floats[-1]) # 输出最后一位\n",
    "print(len(floats))\n",
    "\n",
    "fp = open('floats.bin','wb')\n",
    "floats.tofile(fp) #保存到二进制文件\n",
    "fp.close()\n",
    "\n",
    "float2 = array('d') # 创建一个存放双精度浮点数的空数组\n",
    "fp = open('floats.bin','rb')\n",
    "float2.fromfile(fp, 10**7) # 从这个文件中读取一千万个数\n",
    "print(float2[-1])\n",
    "\n",
    "print(floats == float2)"
   ]
  },
  {
   "cell_type": "markdown",
   "metadata": {},
   "source": [
    "### 2.10.2 memoryview"
   ]
  },
  {
   "cell_type": "code",
   "execution_count": 6,
   "metadata": {},
   "outputs": [
    {
     "name": "stdout",
     "output_type": "stream",
     "text": [
      "[0, 1, 2, 3, 4, 5]\n",
      "[[0, 1, 2], [3, 4, 5]]\n",
      "[[0, 1], [2, 3], [4, 5]]\n",
      "[0, 1, 2, 33, 22, 5]\n",
      "array('B', [0, 1, 2, 33, 22, 5])\n"
     ]
    }
   ],
   "source": [
    "from array import array\n",
    "octets = array('B',range(6))\n",
    "\n",
    "m1 = memoryview(octets)\n",
    "print(m1.tolist())\n",
    "\n",
    "m2 = m1.cast('B',[2,3])\n",
    "print(m2.tolist())\n",
    "\n",
    "m3 = m1.cast('B',[3,2])\n",
    "print(m3.tolist())\n",
    "\n",
    "m2[1,1] = 22\n",
    "m3[1,1] = 33\n",
    "\n",
    "print(m1.tolist())\n",
    "print(octets)"
   ]
  },
  {
   "cell_type": "markdown",
   "metadata": {},
   "source": [
    "### 2.10.3 Numpy"
   ]
  },
  {
   "cell_type": "code",
   "execution_count": 10,
   "metadata": {},
   "outputs": [
    {
     "name": "stdout",
     "output_type": "stream",
     "text": [
      "[ 0  1  2  3  4  5  6  7  8  9 10 11]\n",
      "(12,)\n",
      "(12,)\n",
      "增加一个维度 \n",
      " [[ 0  1  2  3]\n",
      " [ 4  5  6  7]\n",
      " [ 8  9 10 11]]\n",
      "第三行 \n",
      " [ 8  9 10 11]\n",
      "第二列 \n",
      " [1 5 9]\n",
      "a的转置 \n",
      " [[ 0  4  8]\n",
      " [ 1  5  9]\n",
      " [ 2  6 10]\n",
      " [ 3  7 11]]\n"
     ]
    }
   ],
   "source": [
    "import numpy as np\n",
    "a = np.arange(12) # 一维数组，共12个元素\n",
    "print(a)\n",
    "\n",
    "print(a.shape)\n",
    "\n",
    "print(a.shape)\n",
    "\n",
    "a.shape = 3,4\n",
    "print('增加一个维度','\\n', a)\n",
    "\n",
    "print('第三行','\\n', a[2])\n",
    "\n",
    "print('第二列','\\n', a[: ,1])\n",
    "\n",
    "print('a的转置', '\\n', a.transpose())\n"
   ]
  },
  {
   "cell_type": "code",
   "execution_count": 15,
   "metadata": {},
   "outputs": [],
   "source": [
    "import numpy as np\n",
    "from random import random\n",
    "\n",
    "floats_10M_lines = np.random.rand(10**7)\n",
    "with open('floats-10M-lines.txt','w') as fp:\n",
    "    for num in floats_10M_lines:\n",
    "        fp.write(str(num) + '\\n')"
   ]
  },
  {
   "cell_type": "code",
   "execution_count": 16,
   "metadata": {},
   "outputs": [
    {
     "name": "stdout",
     "output_type": "stream",
     "text": [
      "Length 10000000\n",
      "[0.97557426 0.75669806 0.62199622]\n",
      "[4.87787132 3.78349028 3.10998109]\n"
     ]
    }
   ],
   "source": [
    "fp = open('floats-10M-lines.txt', 'r')\n",
    "floats = np.loadtxt(fp)\n",
    "print('Length', len(floats))\n",
    "\n",
    "print(floats[-3:])\n",
    "\n",
    "floats *= 5\n",
    "print(floats[-3:])"
   ]
  },
  {
   "cell_type": "code",
   "execution_count": 17,
   "metadata": {},
   "outputs": [
    {
     "name": "stdout",
     "output_type": "stream",
     "text": [
      "0.007163600064814091\n"
     ]
    }
   ],
   "source": [
    "from time import perf_counter as pc\n",
    "\n",
    "t0 = pc()\n",
    "floats /= 3\n",
    "print(pc() - t0)"
   ]
  },
  {
   "cell_type": "code",
   "execution_count": 14,
   "metadata": {},
   "outputs": [
    {
     "name": "stdout",
     "output_type": "stream",
     "text": [
      "[0.01757648 0.43244756 0.10060515]\n"
     ]
    }
   ],
   "source": [
    "np.save('floats-10M',floats)\n",
    "\n",
    "floats2 = np.load('floats-10M.npy', 'r+')\n",
    "floats2 *= 6\n",
    "print(floats2[-3:])"
   ]
  },
  {
   "cell_type": "markdown",
   "metadata": {},
   "source": [
    "### 2.10.4 双端队列和其他队列"
   ]
  },
  {
   "cell_type": "code",
   "execution_count": 28,
   "metadata": {},
   "outputs": [
    {
     "name": "stdout",
     "output_type": "stream",
     "text": [
      "deque([0, 1, 2, 3, 4, 5, 6, 7, 8, 9], maxlen=10)\n",
      "deque([1, 2, 3, 4, 5, 6, 7, 8, 9, 0], maxlen=10)\n",
      "deque([-1, 1, 2, 3, 4, 5, 6, 7, 8, 9], maxlen=10)\n",
      "deque([3, 4, 5, 6, 7, 8, 9, 11, 22, 33], maxlen=10)\n",
      "deque([40, 30, 20, 10, 3, 4, 5, 6, 7, 8], maxlen=10)\n"
     ]
    }
   ],
   "source": [
    "from collections import deque\n",
    "dq = deque(range(10), maxlen=10)\n",
    "\n",
    "print(dq)\n",
    "\n",
    "dq.rotate(3) # 轮转，当n>0时，取右边的几项放到左边，当n<0时，取左边的几项放到右边\n",
    "\n",
    "dq.rotate(-4) \n",
    "print(dq)\n",
    "\n",
    "dq.appendleft(-1) # 向已满的deque对象的一段追加几项，则另一端就要丢弃几项\n",
    "print(dq)\n",
    "\n",
    "dq.extend([11,22,33]) # 在右边添加3项，把左端前三项丢弃掉\n",
    "print(dq)\n",
    "\n",
    "dq.extendleft([10,20,30,40]) # extendleft 会依此把参数中的各项追加到deque对象的左端，因此之前的位置顺序得到保留\n",
    "print(dq)"
   ]
  },
  {
   "cell_type": "code",
   "execution_count": null,
   "metadata": {},
   "outputs": [],
   "source": []
  }
 ],
 "metadata": {
  "kernelspec": {
   "display_name": "Python 3",
   "language": "python",
   "name": "python3"
  },
  "language_info": {
   "codemirror_mode": {
    "name": "ipython",
    "version": 3
   },
   "file_extension": ".py",
   "mimetype": "text/x-python",
   "name": "python",
   "nbconvert_exporter": "python",
   "pygments_lexer": "ipython3",
   "version": "3.10.0"
  },
  "orig_nbformat": 4,
  "vscode": {
   "interpreter": {
    "hash": "8a5edab282632443219e051e4ade2d1d5bbc671c781051bf1437897cbdfea0f1"
   }
  }
 },
 "nbformat": 4,
 "nbformat_minor": 2
}
